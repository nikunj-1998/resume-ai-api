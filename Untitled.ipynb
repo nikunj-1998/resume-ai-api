{
 "cells": [
  {
   "cell_type": "code",
   "execution_count": null,
   "id": "2c055619-b1ed-43a8-9ab3-825a2e1871a7",
   "metadata": {
    "vscode": {
     "languageId": "python"
    }
   },
   "outputs": [],
   "source": [
    "pip install google-auth google-auth-oauthlib google-auth-httplib2 google-api-python-client pdfplumber python-docx spacy faiss-cpu numpy\n"
   ]
  }
 ],
 "metadata": {
  "kernelspec": {
   "display_name": "",
   "name": ""
  },
  "language_info": {
   "name": ""
  }
 },
 "nbformat": 4,
 "nbformat_minor": 5
}
